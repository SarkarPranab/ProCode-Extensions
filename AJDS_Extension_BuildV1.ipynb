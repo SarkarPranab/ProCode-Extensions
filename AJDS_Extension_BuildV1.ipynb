{
  "nbformat": 4,
  "nbformat_minor": 0,
  "metadata": {
    "colab": {
      "provenance": []
    },
    "kernelspec": {
      "name": "python3",
      "display_name": "Python 3"
    },
    "language_info": {
      "name": "python"
    }
  },
  "cells": [
    {
      "cell_type": "markdown",
      "source": [
        "**Images**"
      ],
      "metadata": {
        "id": "nDHHvv4iAd8G"
      }
    },
    {
      "cell_type": "markdown",
      "source": [
        "**Video Builder Shorts With Images**"
      ],
      "metadata": {
        "id": "fNMoUE6VJnC0"
      }
    },
    {
      "cell_type": "code",
      "execution_count": null,
      "metadata": {
        "id": "2DVJKaBDdhiY"
      },
      "outputs": [],
      "source": [
        "\n",
        "# imports Pil module\n",
        "import json\n",
        "import PIL\n",
        "from PIL import ImageDraw\n",
        "import os\n",
        "import cv2\n",
        "import numpy as np\n",
        "import glob\n",
        "import shutil\n",
        "import moviepy.editor as mpe\n",
        "import time\n",
        "\n",
        "def getData():\n",
        "  with open('/content/drive/MyDrive/AJDS/static/job_details.vacancies.json') as json_file:\n",
        "      data = json.load(json_file)\n",
        "  return data\n",
        "\n",
        "def image_processor(data):\n",
        "  image_list=[]\n",
        "  directory = \"images\"\n",
        "\n",
        "  # Parent Directory path\n",
        "  parent_dir = \"/content/\"\n",
        "\n",
        "  # Path\n",
        "  path = os.path.join(parent_dir, directory)\n",
        "\n",
        "  # Create the directory\n",
        "  # 'GeeksForGeeks' in\n",
        "  # '/home / User / Documents'\n",
        "  # creating image object which is of specific color\n",
        "  already_done_list = os.listdir('/content/drive/MyDrive/AJDS/output/')\n",
        "  for data_js in data:\n",
        "    print(\"File : \",data_js[\"_id\"][\"$oid\"]+\".mp4\")\n",
        "    if data_js[\"_id\"][\"$oid\"]+\".mp4\" not in already_done_list:\n",
        "      os.mkdir(path)\n",
        "      im = PIL.Image.new(mode = \"RGB\", size = (1080,1920),\n",
        "                                color = (18, 18, 18))\n",
        "\n",
        "      font = PIL.ImageFont.truetype(r'/content/drive/MyDrive/AJDS/static/Caprasimo-Regular.ttf', 100)\n",
        "\n",
        "      logo = PIL.Image.open(r\"/content/drive/MyDrive/AJDS/static/logo.png\")\n",
        "      im.paste(logo, (0,0), mask = logo)\n",
        "      I1 = ImageDraw.Draw(im)\n",
        "      # Add Text to an image\n",
        "      # AJDS HASH\n",
        "\n",
        "      I1.text((500, 130), \"#AJDS\", fill=(32,208,221),font=font)\n",
        "\n",
        "      # JOB NAME\n",
        "      font = PIL.ImageFont.truetype(r'/content/drive/MyDrive/AJDS/static/Caprasimo-Regular.ttf', 40)\n",
        "      I1.text((100, 430), \"## Apply Link In Description & Comment ##\", fill=(255,0,0),font=font)\n",
        "      I1.text((100, 530), \" Job : \"+ data_js[\"job_name\"], fill=(32,208,221),font=font)\n",
        "      I1.text((100, 630), \" Location : \"+ data_js[\"location\"], fill=(32,208,221),font=font)\n",
        "      I1.text((100, 730), \" Work Mode : \"+ data_js[\"WorkMode\"], fill=(32,208,221),font=font)\n",
        "      I1.text((100, 830), \" Experience Level : \"+ data_js[\"experienceLevel\"], fill=(32,208,221),font=font)\n",
        "      I1.text((100, 930), \" Salary : \"+ data_js[\"salary\"], fill=(32,208,221),font=font)\n",
        "      I1.text((100, 1130), \"## Apply Link In Description & Comment ##\", fill=(255,0,0),font=font)\n",
        "\n",
        "      # Website\n",
        "      I1.text((100, 1330), \"Visit us : https://ajds.onrender.com/\", fill=(32,208,221),font=font)\n",
        "      I1.text((100, 1530), \"## Apply Link In Description & Comment ##\", fill=(255,0,0),font=font)\n",
        "      # this will show image in any image viewer\n",
        "      im.show()\n",
        "\n",
        "      for i in range(0,31):\n",
        "        image_list.append(\"/content/images/\"+data_js[\"_id\"][\"$oid\"]+\"_\"+str(i)+\".jpg\")\n",
        "        im.save(\"/content/images/\"+data_js[\"_id\"][\"$oid\"]+\"_\"+str(i)+\".jpg\")\n",
        "\n",
        "      shutil.move(\"/content/images/\"+data_js[\"_id\"][\"$oid\"]+\"_1\"+\".jpg\",\"/content/drive/MyDrive/AJDS/output/\"+data_js[\"_id\"][\"$oid\"]+\".jpg\")\n",
        "      video_creator(data_js)\n",
        "    else:\n",
        "      print(\"Already Completed : \", data_js[\"_id\"][\"$oid\"]+\".mp4\")\n",
        "def video_creator(date_js):\n",
        "  # choose codec according to format needed\n",
        "  fourcc = cv2.VideoWriter_fourcc(*'mp4v')\n",
        "  video = cv2.VideoWriter('video.avi', fourcc, 1, (1080, 1920))\n",
        "\n",
        "  image_lists = os.listdir('/content/images/')\n",
        "  print(\"[+] Number of images : \", len(image_lists))\n",
        "  for img in image_lists:\n",
        "      img = cv2.imread('/content/images/'+img)\n",
        "      video.write(img)\n",
        "\n",
        "  cv2.destroyAllWindows()\n",
        "  video.release()\n",
        "  time.sleep(10)\n",
        "  # Open the video and audio\n",
        "  audio = mpe.AudioFileClip(\"/content/drive/MyDrive/AJDS/static/motivational-electronic-distant-132919.mp3\")\n",
        "  video1 = mpe.VideoFileClip(\"/content/video.avi\")\n",
        "  final = video1.set_audio(audio)\n",
        "  final.write_videofile(date_js[\"_id\"][\"$oid\"] + \".mp4\",codec= 'mpeg4' ,audio_codec='libvorbis')\n",
        "  # Export the final video with audio\n",
        "  final.ipython_display()\n",
        "  os.remove(\"/content/\"+date_js[\"_id\"][\"$oid\"] + \".mp4\")\n",
        "  os.remove(\"/content/video.avi\")\n",
        "  os.rename(\"/content/__temp__.mp4\",\"/content/\"+date_js[\"_id\"][\"$oid\"] + \".mp4\")\n",
        "  shutil.move(\"/content/\"+date_js[\"_id\"][\"$oid\"] + \".mp4\",\"/content/drive/MyDrive/AJDS/output/\"+date_js[\"_id\"][\"$oid\"] + \".mp4\")\n",
        "  shutil.rmtree('/content/images/')\n",
        "\n",
        "\n",
        "#MAIN\n",
        "data = getData()\n",
        "image_processor(data)\n"
      ]
    }
  ]
}